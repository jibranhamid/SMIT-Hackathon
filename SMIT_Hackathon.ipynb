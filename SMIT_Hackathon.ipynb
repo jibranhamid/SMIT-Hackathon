{
  "nbformat": 4,
  "nbformat_minor": 0,
  "metadata": {
    "colab": {
      "provenance": [],
      "authorship_tag": "ABX9TyN6sR93lGeFBV5gMo+BD3Gl",
      "include_colab_link": true
    },
    "kernelspec": {
      "name": "python3",
      "display_name": "Python 3"
    },
    "language_info": {
      "name": "python"
    }
  },
  "cells": [
    {
      "cell_type": "markdown",
      "metadata": {
        "id": "view-in-github",
        "colab_type": "text"
      },
      "source": [
        "<a href=\"https://colab.research.google.com/github/jibranhamid/SMIT-Hackathon/blob/main/SMIT_Hackathon.ipynb\" target=\"_parent\"><img src=\"https://colab.research.google.com/assets/colab-badge.svg\" alt=\"Open In Colab\"/></a>"
      ]
    },
    {
      "cell_type": "code",
      "source": [],
      "metadata": {
        "id": "wec7iBuXtONM"
      },
      "execution_count": 2,
      "outputs": []
    },
    {
      "cell_type": "markdown",
      "source": [
        "# Task done entirely with the help of colab AI"
      ],
      "metadata": {
        "id": "YG4T1a682TaY"
      }
    },
    {
      "cell_type": "markdown",
      "source": [
        "I have been unable to practice and understand OOP concepts at a deeper level. I will surely work hard to imrpove my understanding and complete the tasks on my own."
      ],
      "metadata": {
        "id": "FdmJkvxM2ivK"
      }
    },
    {
      "cell_type": "code",
      "source": [
        "\n",
        "\n",
        "class BankAccount():\n",
        "    def __init__(self, account_number, account_holder, balance=0):\n",
        "        self.account_number = account_number\n",
        "        self.account_holder = account_holder\n",
        "        self.balance = balance\n",
        "        self.transactions = []\n",
        "\n",
        "    def deposit(self, amount):\n",
        "        if amount <= 0:\n",
        "            print(\"Invalid deposit amount\")\n",
        "            return\n",
        "        self.balance += amount\n",
        "        self.transactions.append(f\"Deposited ${amount}\")\n",
        "\n",
        "    def withdraw(self, amount):\n",
        "        if self.balance >= amount:\n",
        "            self.balance -= amount\n",
        "            self.transactions.append(f\"Withdrew ${amount}\")\n",
        "        else:\n",
        "            print(\"Insufficient funds\")\n",
        "\n",
        "    def get_balance(self):\n",
        "        return self.balance\n",
        "\n",
        "    def get_transactions(self):\n",
        "        return self.transactions\n",
        "\n",
        "\n",
        "class Bank():\n",
        "    def __init__(self):\n",
        "        self.accounts = {}\n",
        "        self.total_deposits = 0\n",
        "\n",
        "    def open_account(self, account_holder):\n",
        "        account_number = len(self.accounts) + 1\n",
        "        account = BankAccount(account_number, account_holder)\n",
        "        self.accounts[account_number] = account\n",
        "        print(f\"Account created successfully. Account number: {account_number}\")\n",
        "        return account_number\n",
        "\n",
        "    def get_account(self, account_number):\n",
        "        if account_number in self.accounts:\n",
        "            return self.accounts[account_number]\n",
        "        else:\n",
        "            print(\"Account not found.\")\n",
        "            return None\n",
        "\n",
        "\n",
        "    def transfer(self, sender_account_number, receiver_account_number, amount):\n",
        "        sender_account = self.get_account(sender_account_number)\n",
        "        receiver_account = self.get_account(receiver_account_number)\n",
        "\n",
        "        if sender_account and receiver_account:\n",
        "            if sender_account.balance >= amount:\n",
        "                sender_account.withdraw(amount)\n",
        "                receiver_account.deposit(amount)\n",
        "                sender_account.transactions.append(f\"Transferred ${amount} to {receiver_account_number}\")\n",
        "                receiver_account.transactions.append(f\"Received ${amount} from {sender_account_number}\")\n",
        "                print(\"Transfer successful.\")\n",
        "            else:\n",
        "                print(\"Insufficient funds for transfer.\")\n",
        "        else:\n",
        "            print(\"One or both accounts not found.\")\n",
        "\n",
        "    def admin_check_total_deposit(self):\n",
        "        total_deposits = sum(account.balance for account in self.accounts.values())\n",
        "        print(f\"Total deposits in the bank: ${total_deposits}\")\n",
        "        return total_deposits\n",
        "\n",
        "    def admin_check_total_accounts(self):\n",
        "      print(f\"Total number of accounts: {len(self.accounts)}\")\n",
        "      return len(self.accounts)\n",
        "\n",
        "# Example usage\n",
        "bank = Bank()\n",
        "\n",
        "# Open accounts\n",
        "account1_number = bank.open_account(\"Alice\")\n",
        "account2_number = bank.open_account(\"Bob\")\n",
        "\n",
        "# Deposit and withdraw\n",
        "bank.get_account(account1_number).deposit(1000)\n",
        "bank.get_account(account1_number).withdraw(200)\n",
        "\n",
        "# Transfer money\n",
        "bank.transfer(account1_number, account2_number, 300)\n",
        "\n",
        "# Check balance and transactions\n",
        "print(f\"Account {account1_number} balance: ${bank.get_account(account1_number).get_balance()}\")\n",
        "\n",
        "# Admin checks\n",
        "bank.admin_check_total_deposit()\n",
        "bank.admin_check_total_accounts()"
      ],
      "metadata": {
        "colab": {
          "base_uri": "https://localhost:8080/"
        },
        "id": "jyDpuTRMt9f_",
        "outputId": "6c7e5235-4944-4d20-8691-52a347e2e268"
      },
      "execution_count": 9,
      "outputs": [
        {
          "output_type": "stream",
          "name": "stdout",
          "text": [
            "Account created successfully. Account number: 1\n",
            "Account created successfully. Account number: 2\n",
            "Transfer successful.\n",
            "Account 1 balance: $500\n",
            "Total deposits in the bank: $800\n",
            "Total number of accounts: 2\n"
          ]
        },
        {
          "output_type": "execute_result",
          "data": {
            "text/plain": [
              "2"
            ]
          },
          "metadata": {},
          "execution_count": 9
        }
      ]
    },
    {
      "cell_type": "code",
      "source": [
        "\n"
      ],
      "metadata": {
        "id": "9uEAyAlYzHrU"
      },
      "execution_count": 7,
      "outputs": []
    },
    {
      "cell_type": "code",
      "source": [
        " #My own attempt to solve the task\n",
        "\n",
        "\n",
        " class BankAccount():\n",
        "    def __init__(self, account_number,account_holder,balance,transactions):\n",
        "        self.account_number = account_number\n",
        "        self.account_number = account_number\n",
        "        self.balance = balance\n",
        "        self.transactions = []\n",
        "    def deposit(self,amount):\n",
        "        if amount <= 0:\n",
        "            print(\"Invalid deposit amount\")\n",
        "            return\n",
        "        self.balance += amount\n",
        "        self.transactions.append(f\"Deposited ${amount}\")\n",
        "    def withdraw(self,amount):\n",
        "        if self.balance >= amount:\n",
        "            self.balance -= amount\n",
        "            self.transactions.append(f\"Withdrew ${amount}\")\n",
        "        else:\n",
        "            print(\"Insufficient funds\")\n",
        "\n",
        "    def check_balance(self):\n",
        "        return self.balance\n",
        "\n",
        "    def add_transaction(description):\n",
        "\n",
        "  class Bank(BankAccount):\n",
        "    def __super__(self,accounts):\n",
        "        self.accounts = {'account_number':'account_holder','account_number':'balance','account_number':'transactions'}\n",
        "\n",
        "    def open_account(self,account_holder):\n",
        "\n",
        "\n",
        "\n",
        "    def get_account(self,account_number):\n",
        "\n",
        "\n",
        "    def transfer(self,sender_account_number, receiver_account_number, amount):\n",
        "\n",
        "\n",
        "    def admin_check_total_deposit(self):\n",
        "\n",
        "\n",
        "    def admin_check_total_accounts():"
      ],
      "metadata": {
        "id": "sM3uzT7Vz2i-"
      },
      "execution_count": null,
      "outputs": []
    }
  ]
}